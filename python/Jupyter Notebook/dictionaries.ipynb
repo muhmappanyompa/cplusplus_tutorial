{
 "cells": [
  {
   "cell_type": "code",
   "execution_count": 10,
   "metadata": {},
   "outputs": [
    {
     "name": "stdout",
     "output_type": "stream",
     "text": [
      "{'Name': 'Matt', 'Age': 24, 'Uni': 'KIT'}\n"
     ]
    }
   ],
   "source": [
    "dict = {\n",
    "  \"Name\": \"Matt\",\n",
    "  \"Age\" : 24,\n",
    "  \"Uni\" : \"KIT\"\n",
    "}\n",
    "print(dict)\n",
    "\n"
   ]
  },
  {
   "cell_type": "code",
   "execution_count": 9,
   "metadata": {},
   "outputs": [
    {
     "name": "stdout",
     "output_type": "stream",
     "text": [
      "24\n"
     ]
    }
   ],
   "source": [
    "#calling from the dictionaries\n",
    "x= dict[\"Age\"]\n",
    "print(x)"
   ]
  },
  {
   "cell_type": "code",
   "execution_count": 11,
   "metadata": {},
   "outputs": [
    {
     "name": "stdout",
     "output_type": "stream",
     "text": [
      "KIT\n"
     ]
    }
   ],
   "source": [
    "#Get the value of the  key\n",
    "y= dict.get(\"Uni\")\n",
    "print(y)"
   ]
  },
  {
   "cell_type": "code",
   "execution_count": 12,
   "metadata": {},
   "outputs": [
    {
     "name": "stdout",
     "output_type": "stream",
     "text": [
      "{'Name': 'Matt', 'Age': 25, 'Uni': 'KIT'}\n"
     ]
    }
   ],
   "source": [
    "#change the value dictionaries\n",
    "dict[\"Age\"] = 25\n",
    "print(dict)"
   ]
  },
  {
   "cell_type": "code",
   "execution_count": null,
   "metadata": {},
   "outputs": [],
   "source": []
  }
 ],
 "metadata": {
  "kernelspec": {
   "display_name": "Python 3",
   "language": "python",
   "name": "python3"
  },
  "language_info": {
   "codemirror_mode": {
    "name": "ipython",
    "version": 3
   },
   "file_extension": ".py",
   "mimetype": "text/x-python",
   "name": "python",
   "nbconvert_exporter": "python",
   "pygments_lexer": "ipython3",
   "version": "3.8.3"
  }
 },
 "nbformat": 4,
 "nbformat_minor": 4
}
