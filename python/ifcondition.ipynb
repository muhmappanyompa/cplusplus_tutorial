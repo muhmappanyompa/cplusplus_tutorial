{
 "cells": [
  {
   "cell_type": "code",
   "execution_count": 4,
   "metadata": {},
   "outputs": [
    {
     "name": "stdout",
     "output_type": "stream",
     "text": [
      "not passed\n"
     ]
    }
   ],
   "source": [
    "#creating greater and less\n",
    "num = 50\n",
    "if(num>=65):\n",
    "    print(\"pass\")\n",
    "elif(num<65):\n",
    "    print(\"not passed\")"
   ]
  },
  {
   "cell_type": "code",
   "execution_count": 6,
   "metadata": {},
   "outputs": [
    {
     "name": "stdout",
     "output_type": "stream",
     "text": [
      "A is greater than B\n"
     ]
    }
   ],
   "source": [
    "#another example\n",
    "a = 100\n",
    "b = 30\n",
    "\n",
    "if b>a:\n",
    "    print(\"B is greater than A\")\n",
    "elif a==b:\n",
    "    print (\"B is equal A\")\n",
    "else:\n",
    "    print(\"A is greater than B\")"
   ]
  },
  {
   "cell_type": "code",
   "execution_count": 7,
   "metadata": {},
   "outputs": [
    {
     "name": "stdout",
     "output_type": "stream",
     "text": [
      "Condititons true\n"
     ]
    }
   ],
   "source": [
    "#using and\n",
    "a = 200\n",
    "b = 33\n",
    "c = 500\n",
    "\n",
    "if a>b and c>a:\n",
    "    print(\"Condititons true\")"
   ]
  },
  {
   "cell_type": "code",
   "execution_count": null,
   "metadata": {},
   "outputs": [],
   "source": []
  }
 ],
 "metadata": {
  "kernelspec": {
   "display_name": "Python 3",
   "language": "python",
   "name": "python3"
  },
  "language_info": {
   "codemirror_mode": {
    "name": "ipython",
    "version": 3
   },
   "file_extension": ".py",
   "mimetype": "text/x-python",
   "name": "python",
   "nbconvert_exporter": "python",
   "pygments_lexer": "ipython3",
   "version": "3.8.3"
  }
 },
 "nbformat": 4,
 "nbformat_minor": 4
}
